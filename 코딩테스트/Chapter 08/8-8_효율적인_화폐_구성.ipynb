{
 "cells": [
  {
   "cell_type": "code",
   "execution_count": 1,
   "metadata": {},
   "outputs": [],
   "source": [
    "def money(n, m, *args):\n",
    "\n",
    "    array = list(args)\n",
    "    d = [10001] * (m + 1)\n",
    "\n",
    "    d[0] = 0\n",
    "\n",
    "    for i in range(n):\n",
    "        for j in range(array[i], m + 1):\n",
    "            if d[j - array[i]] != 10001:\n",
    "                d[j] = min(d[j], d[j - array[i]] + 1)\n",
    "\n",
    "    if d[m] == 10001:\n",
    "        return -1\n",
    "    else:\n",
    "        return d[m]"
   ]
  },
  {
   "cell_type": "code",
   "execution_count": 2,
   "metadata": {},
   "outputs": [],
   "source": [
    "def money2(n, m, *args):\n",
    "\n",
    "    array = list(args)\n",
    "    d = [10001] * (m + 1)\n",
    "\n",
    "    d[0] = 0\n",
    "\n",
    "    for i in range(m+1):\n",
    "        for j in array:\n",
    "            if i - j >= 0 and d[i-j] != 10001:\n",
    "                d[i] = min(d[i], d[i - j] + 1)\n",
    "\n",
    "    if d[m] == 10001:\n",
    "        return -1\n",
    "    else:\n",
    "        return d[m]"
   ]
  },
  {
   "cell_type": "code",
   "execution_count": 3,
   "metadata": {},
   "outputs": [
    {
     "data": {
      "text/plain": [
       "5"
      ]
     },
     "execution_count": 3,
     "metadata": {},
     "output_type": "execute_result"
    }
   ],
   "source": [
    "money(2,15, 2,3)"
   ]
  },
  {
   "cell_type": "code",
   "execution_count": 4,
   "metadata": {},
   "outputs": [
    {
     "data": {
      "text/plain": [
       "5"
      ]
     },
     "execution_count": 4,
     "metadata": {},
     "output_type": "execute_result"
    }
   ],
   "source": [
    "money2(2, 15, 2, 3)"
   ]
  },
  {
   "cell_type": "code",
   "execution_count": 5,
   "metadata": {},
   "outputs": [
    {
     "data": {
      "text/plain": [
       "-1"
      ]
     },
     "execution_count": 5,
     "metadata": {},
     "output_type": "execute_result"
    }
   ],
   "source": [
    "money(3,4, 3, 5, 7)"
   ]
  },
  {
   "cell_type": "code",
   "execution_count": 6,
   "metadata": {},
   "outputs": [
    {
     "data": {
      "text/plain": [
       "-1"
      ]
     },
     "execution_count": 6,
     "metadata": {},
     "output_type": "execute_result"
    }
   ],
   "source": [
    "money2(3,4,3,5,7)"
   ]
  },
  {
   "cell_type": "code",
   "execution_count": null,
   "metadata": {},
   "outputs": [],
   "source": []
  }
 ],
 "metadata": {
  "kernelspec": {
   "display_name": "base",
   "language": "python",
   "name": "python3"
  },
  "language_info": {
   "codemirror_mode": {
    "name": "ipython",
    "version": 3
   },
   "file_extension": ".py",
   "mimetype": "text/x-python",
   "name": "python",
   "nbconvert_exporter": "python",
   "pygments_lexer": "ipython3",
   "version": "3.1.0"
  }
 },
 "nbformat": 4,
 "nbformat_minor": 2
}
