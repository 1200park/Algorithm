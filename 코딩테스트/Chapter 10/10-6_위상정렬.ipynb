{
 "cells": [
  {
   "cell_type": "code",
   "execution_count": null,
   "metadata": {},
   "outputs": [],
   "source": [
    "from collections import deque"
   ]
  },
  {
   "cell_type": "code",
   "execution_count": null,
   "metadata": {},
   "outputs": [],
   "source": [
    "v, e = map(int, input.split())\n",
    "\n",
    "indegree = [0] * (v + 1)\n",
    "\n",
    "graph = [[] for i in range(v + 1)]"
   ]
  },
  {
   "cell_type": "code",
   "execution_count": null,
   "metadata": {},
   "outputs": [],
   "source": [
    "for _ in range(e):\n",
    "    a, b = map(int, input().split())\n",
    "    graph[a].append(b)\n",
    "    \n",
    "    indegree[b] += 1"
   ]
  },
  {
   "cell_type": "code",
   "execution_count": null,
   "metadata": {},
   "outputs": [],
   "source": [
    "def topology_sort():\n",
    "    result = []\n",
    "    q=deque()\n",
    "\n",
    "\n",
    "    for i in range(1, v+1):\n",
    "        if indegree[i] == 0:\n",
    "            q.append(i)\n",
    "\n",
    "\n",
    "    while q:\n",
    "\n",
    "        now = q.popleft()\n",
    "        result.append(now)\n",
    "\n",
    "        for i in graph[now]:\n",
    "            indegree[i] -= 1\n",
    "\n",
    "            if indegree[i] == 0:\n",
    "                q.append(i)\n",
    "\n",
    "\n",
    "    for i in result:\n",
    "        print(i, end = \" \")"
   ]
  },
  {
   "cell_type": "code",
   "execution_count": null,
   "metadata": {},
   "outputs": [],
   "source": [
    "topology_sort()"
   ]
  }
 ],
 "metadata": {
  "kernelspec": {
   "display_name": "base",
   "language": "python",
   "name": "python3"
  },
  "language_info": {
   "codemirror_mode": {
    "name": "ipython",
    "version": 3
   },
   "file_extension": ".py",
   "mimetype": "text/x-python",
   "name": "python",
   "nbconvert_exporter": "python",
   "pygments_lexer": "ipython3",
   "version": "3.1.0"
  }
 },
 "nbformat": 4,
 "nbformat_minor": 2
}
